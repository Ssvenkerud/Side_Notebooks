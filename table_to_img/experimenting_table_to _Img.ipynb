{
 "cells": [
  {
   "cell_type": "code",
   "execution_count": 65,
   "metadata": {},
   "outputs": [],
   "source": [
    "import pandas as pd\n",
    "import numpy as np\n",
    "import matplotlib.pyplot as plt\n",
    "import matplotlib.image as mpimg\n",
    "import time\n",
    "import datetime\n",
    "from sklearn import preprocessing"
   ]
  },
  {
   "cell_type": "code",
   "execution_count": 6,
   "metadata": {},
   "outputs": [],
   "source": [
    "data = pd.read_csv('Test_data_image_outlier_detection.csv', sep=';')"
   ]
  },
  {
   "cell_type": "code",
   "execution_count": 99,
   "metadata": {},
   "outputs": [],
   "source": [
    "unit_1000 = (data\n",
    "             .loc[data.group_id == 1001]\n",
    "             #.set_index('period')\n",
    "             .drop('group_id', axis = 1)\n",
    "            )\n",
    "unit_1000['period'] = pd.to_datetime(unit_1000['period'] , format='%Y-%m')\n",
    "df = unit_1000.set_index('period')"
   ]
  },
  {
   "cell_type": "code",
   "execution_count": 100,
   "metadata": {},
   "outputs": [
    {
     "data": {
      "text/html": [
       "<div>\n",
       "<style scoped>\n",
       "    .dataframe tbody tr th:only-of-type {\n",
       "        vertical-align: middle;\n",
       "    }\n",
       "\n",
       "    .dataframe tbody tr th {\n",
       "        vertical-align: top;\n",
       "    }\n",
       "\n",
       "    .dataframe thead th {\n",
       "        text-align: right;\n",
       "    }\n",
       "</style>\n",
       "<table border=\"1\" class=\"dataframe\">\n",
       "  <thead>\n",
       "    <tr style=\"text-align: right;\">\n",
       "      <th></th>\n",
       "      <th>count_1</th>\n",
       "      <th>count_2</th>\n",
       "      <th>count_3</th>\n",
       "      <th>float_1</th>\n",
       "      <th>float_2</th>\n",
       "      <th>float_3</th>\n",
       "      <th>float_4</th>\n",
       "      <th>cat_1</th>\n",
       "      <th>cat_2</th>\n",
       "      <th>cat_3</th>\n",
       "      <th>cat_4</th>\n",
       "      <th>cat_5</th>\n",
       "    </tr>\n",
       "    <tr>\n",
       "      <th>period</th>\n",
       "      <th></th>\n",
       "      <th></th>\n",
       "      <th></th>\n",
       "      <th></th>\n",
       "      <th></th>\n",
       "      <th></th>\n",
       "      <th></th>\n",
       "      <th></th>\n",
       "      <th></th>\n",
       "      <th></th>\n",
       "      <th></th>\n",
       "      <th></th>\n",
       "    </tr>\n",
       "  </thead>\n",
       "  <tbody>\n",
       "    <tr>\n",
       "      <th>2000-01-01</th>\n",
       "      <td>655</td>\n",
       "      <td>47393</td>\n",
       "      <td>1</td>\n",
       "      <td>11.857374</td>\n",
       "      <td>1352.287978</td>\n",
       "      <td>109.20</td>\n",
       "      <td>430.288863</td>\n",
       "      <td>1</td>\n",
       "      <td>2</td>\n",
       "      <td>1</td>\n",
       "      <td>0</td>\n",
       "      <td>1</td>\n",
       "    </tr>\n",
       "    <tr>\n",
       "      <th>2000-02-01</th>\n",
       "      <td>3</td>\n",
       "      <td>47393</td>\n",
       "      <td>2</td>\n",
       "      <td>16.677738</td>\n",
       "      <td>1936.606181</td>\n",
       "      <td>108.20</td>\n",
       "      <td>0.000000</td>\n",
       "      <td>0</td>\n",
       "      <td>3</td>\n",
       "      <td>1</td>\n",
       "      <td>0</td>\n",
       "      <td>1</td>\n",
       "    </tr>\n",
       "    <tr>\n",
       "      <th>2000-03-01</th>\n",
       "      <td>36467</td>\n",
       "      <td>47393</td>\n",
       "      <td>3</td>\n",
       "      <td>13.689627</td>\n",
       "      <td>810.472516</td>\n",
       "      <td>109.50</td>\n",
       "      <td>1970.696562</td>\n",
       "      <td>1</td>\n",
       "      <td>2</td>\n",
       "      <td>1</td>\n",
       "      <td>1</td>\n",
       "      <td>0</td>\n",
       "    </tr>\n",
       "    <tr>\n",
       "      <th>2000-04-01</th>\n",
       "      <td>869</td>\n",
       "      <td>47393</td>\n",
       "      <td>4</td>\n",
       "      <td>19.344602</td>\n",
       "      <td>1847.113761</td>\n",
       "      <td>10009.00</td>\n",
       "      <td>0.000000</td>\n",
       "      <td>0</td>\n",
       "      <td>2</td>\n",
       "      <td>1</td>\n",
       "      <td>1</td>\n",
       "      <td>0</td>\n",
       "    </tr>\n",
       "    <tr>\n",
       "      <th>2000-05-01</th>\n",
       "      <td>564</td>\n",
       "      <td>47393</td>\n",
       "      <td>67</td>\n",
       "      <td>20.125384</td>\n",
       "      <td>1371.590629</td>\n",
       "      <td>104.70</td>\n",
       "      <td>812.119540</td>\n",
       "      <td>1</td>\n",
       "      <td>3</td>\n",
       "      <td>2</td>\n",
       "      <td>0</td>\n",
       "      <td>1</td>\n",
       "    </tr>\n",
       "    <tr>\n",
       "      <th>2000-06-01</th>\n",
       "      <td>3</td>\n",
       "      <td>47393</td>\n",
       "      <td>89</td>\n",
       "      <td>15.068402</td>\n",
       "      <td>928.884687</td>\n",
       "      <td>105.33</td>\n",
       "      <td>0.000000</td>\n",
       "      <td>0</td>\n",
       "      <td>2</td>\n",
       "      <td>2</td>\n",
       "      <td>0</td>\n",
       "      <td>1</td>\n",
       "    </tr>\n",
       "    <tr>\n",
       "      <th>2000-07-01</th>\n",
       "      <td>765</td>\n",
       "      <td>47393</td>\n",
       "      <td>56</td>\n",
       "      <td>18.747409</td>\n",
       "      <td>406.801533</td>\n",
       "      <td>100.20</td>\n",
       "      <td>1361.760325</td>\n",
       "      <td>1</td>\n",
       "      <td>0</td>\n",
       "      <td>3</td>\n",
       "      <td>1</td>\n",
       "      <td>0</td>\n",
       "    </tr>\n",
       "    <tr>\n",
       "      <th>2000-08-01</th>\n",
       "      <td>345</td>\n",
       "      <td>473</td>\n",
       "      <td>36</td>\n",
       "      <td>17.116590</td>\n",
       "      <td>1470.334268</td>\n",
       "      <td>108.20</td>\n",
       "      <td>0.000000</td>\n",
       "      <td>0</td>\n",
       "      <td>2</td>\n",
       "      <td>3</td>\n",
       "      <td>0</td>\n",
       "      <td>0</td>\n",
       "    </tr>\n",
       "    <tr>\n",
       "      <th>2000-09-01</th>\n",
       "      <td>3455</td>\n",
       "      <td>47393</td>\n",
       "      <td>24</td>\n",
       "      <td>16.593853</td>\n",
       "      <td>1688.272754</td>\n",
       "      <td>104.70</td>\n",
       "      <td>1915.277911</td>\n",
       "      <td>1</td>\n",
       "      <td>3</td>\n",
       "      <td>3</td>\n",
       "      <td>0</td>\n",
       "      <td>1</td>\n",
       "    </tr>\n",
       "    <tr>\n",
       "      <th>2000-10-01</th>\n",
       "      <td>344</td>\n",
       "      <td>47393</td>\n",
       "      <td>11</td>\n",
       "      <td>13.981411</td>\n",
       "      <td>1815.298776</td>\n",
       "      <td>105.33</td>\n",
       "      <td>0.000000</td>\n",
       "      <td>0</td>\n",
       "      <td>51</td>\n",
       "      <td>3</td>\n",
       "      <td>1</td>\n",
       "      <td>0</td>\n",
       "    </tr>\n",
       "    <tr>\n",
       "      <th>2000-11-01</th>\n",
       "      <td>55665</td>\n",
       "      <td>47393</td>\n",
       "      <td>10</td>\n",
       "      <td>16.044722</td>\n",
       "      <td>1532.589687</td>\n",
       "      <td>104.70</td>\n",
       "      <td>1099.468947</td>\n",
       "      <td>1</td>\n",
       "      <td>2</td>\n",
       "      <td>4</td>\n",
       "      <td>0</td>\n",
       "      <td>1</td>\n",
       "    </tr>\n",
       "    <tr>\n",
       "      <th>2000-12-01</th>\n",
       "      <td>3</td>\n",
       "      <td>47393</td>\n",
       "      <td>9</td>\n",
       "      <td>16.079860</td>\n",
       "      <td>1877.437296</td>\n",
       "      <td>129.30</td>\n",
       "      <td>0.000000</td>\n",
       "      <td>0</td>\n",
       "      <td>2</td>\n",
       "      <td>4</td>\n",
       "      <td>1</td>\n",
       "      <td>0</td>\n",
       "    </tr>\n",
       "  </tbody>\n",
       "</table>\n",
       "</div>"
      ],
      "text/plain": [
       "            count_1  count_2  count_3    float_1      float_2   float_3  \\\n",
       "period                                                                    \n",
       "2000-01-01      655    47393        1  11.857374  1352.287978    109.20   \n",
       "2000-02-01        3    47393        2  16.677738  1936.606181    108.20   \n",
       "2000-03-01    36467    47393        3  13.689627   810.472516    109.50   \n",
       "2000-04-01      869    47393        4  19.344602  1847.113761  10009.00   \n",
       "2000-05-01      564    47393       67  20.125384  1371.590629    104.70   \n",
       "2000-06-01        3    47393       89  15.068402   928.884687    105.33   \n",
       "2000-07-01      765    47393       56  18.747409   406.801533    100.20   \n",
       "2000-08-01      345      473       36  17.116590  1470.334268    108.20   \n",
       "2000-09-01     3455    47393       24  16.593853  1688.272754    104.70   \n",
       "2000-10-01      344    47393       11  13.981411  1815.298776    105.33   \n",
       "2000-11-01    55665    47393       10  16.044722  1532.589687    104.70   \n",
       "2000-12-01        3    47393        9  16.079860  1877.437296    129.30   \n",
       "\n",
       "                float_4  cat_1  cat_2  cat_3  cat_4  cat_5  \n",
       "period                                                      \n",
       "2000-01-01   430.288863      1      2      1      0      1  \n",
       "2000-02-01     0.000000      0      3      1      0      1  \n",
       "2000-03-01  1970.696562      1      2      1      1      0  \n",
       "2000-04-01     0.000000      0      2      1      1      0  \n",
       "2000-05-01   812.119540      1      3      2      0      1  \n",
       "2000-06-01     0.000000      0      2      2      0      1  \n",
       "2000-07-01  1361.760325      1      0      3      1      0  \n",
       "2000-08-01     0.000000      0      2      3      0      0  \n",
       "2000-09-01  1915.277911      1      3      3      0      1  \n",
       "2000-10-01     0.000000      0     51      3      1      0  \n",
       "2000-11-01  1099.468947      1      2      4      0      1  \n",
       "2000-12-01     0.000000      0      2      4      1      0  "
      ]
     },
     "execution_count": 100,
     "metadata": {},
     "output_type": "execute_result"
    }
   ],
   "source": [
    "df.head(12)"
   ]
  },
  {
   "cell_type": "code",
   "execution_count": 101,
   "metadata": {},
   "outputs": [],
   "source": [
    "img = []\n",
    "for col in df.columns:\n",
    "    listed_col = list(df[col])\n",
    "    norm_col = preprocessing.normalize([listed_col])\n",
    "    column = []\n",
    "    for row in list(norm_col[0]):\n",
    "        list_val = []\n",
    "        list_val.insert(0,row)\n",
    "        list_val.insert(1,row)\n",
    "        list_val.insert(2,row)\n",
    "        column.append(list_val)\n",
    "    img.append(column)\n",
    "    "
   ]
  },
  {
   "cell_type": "code",
   "execution_count": 102,
   "metadata": {},
   "outputs": [
    {
     "data": {
      "image/png": "[encoded data removed]",
      "text/plain": [
       "<Figure size 432x288 with 1 Axes>"
      ]
     },
     "metadata": {
      "needs_background": "light"
     },
     "output_type": "display_data"
    }
   ],
   "source": [
    "imgplot = plt.imshow(img)"
   ]
  },
  {
   "cell_type": "code",
   "execution_count": 96,
   "metadata": {},
   "outputs": [
    {
     "ename": "TypeError",
     "evalue": "list indices must be integers or slices, not tuple",
     "output_type": "error",
     "traceback": [
      "\u001b[0;31m---------------------------------------------------------------------------\u001b[0m",
      "\u001b[0;31mTypeError\u001b[0m                                 Traceback (most recent call last)",
      "\u001b[0;32m<ipython-input-96-3f6ef759eca8>\u001b[0m in \u001b[0;36m<module>\u001b[0;34m\u001b[0m\n\u001b[0;32m----> 1\u001b[0;31m \u001b[0mlum_img\u001b[0m \u001b[0;34m=\u001b[0m \u001b[0mimg\u001b[0m\u001b[0;34m[\u001b[0m\u001b[0;34m:\u001b[0m\u001b[0;34m,\u001b[0m \u001b[0;34m:\u001b[0m\u001b[0;34m,\u001b[0m \u001b[0;36m0\u001b[0m\u001b[0;34m]\u001b[0m\u001b[0;34m\u001b[0m\u001b[0;34m\u001b[0m\u001b[0m\n\u001b[0m\u001b[1;32m      2\u001b[0m \u001b[0mplt\u001b[0m\u001b[0;34m.\u001b[0m\u001b[0mimshow\u001b[0m\u001b[0;34m(\u001b[0m\u001b[0mlum_img\u001b[0m\u001b[0;34m)\u001b[0m\u001b[0;34m\u001b[0m\u001b[0;34m\u001b[0m\u001b[0m\n",
      "\u001b[0;31mTypeError\u001b[0m: list indices must be integers or slices, not tuple"
     ]
    }
   ],
   "source": [
    "lum_img = img[:, :, 0]\n",
    "plt.imshow(lum_img)"
   ]
  },
  {
   "cell_type": "code",
   "execution_count": 98,
   "metadata": {},
   "outputs": [
    {
     "data": {
      "text/plain": [
       "<matplotlib.image.AxesImage at 0x7fe2507a5bb0>"
      ]
     },
     "execution_count": 98,
     "metadata": {},
     "output_type": "execute_result"
    },
    {
     "data": {
      "image/png": "[encoded data removed]",
      "text/plain": [
       "<Figure size 432x288 with 1 Axes>"
      ]
     },
     "metadata": {
      "needs_background": "light"
     },
     "output_type": "display_data"
    }
   ],
   "source": [
    "plt.imshow(img, cmap=\"hot\")"
   ]
  },
  {
   "cell_type": "code",
   "execution_count": null,
   "metadata": {},
   "outputs": [],
   "source": []
  }
 ],
 "metadata": {
  "kernelspec": {
   "display_name": "Python 3",
   "language": "python",
   "name": "python3"
  },
  "language_info": {
   "codemirror_mode": {
    "name": "ipython",
    "version": 3
   },
   "file_extension": ".py",
   "mimetype": "text/x-python",
   "name": "python",
   "nbconvert_exporter": "python",
   "pygments_lexer": "ipython3",
   "version": "3.8.3"
  }
 },
 "nbformat": 4,
 "nbformat_minor": 4
}
