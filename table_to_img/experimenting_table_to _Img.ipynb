{
 "cells": [
  {
   "cell_type": "code",
   "execution_count": 113,
   "metadata": {},
   "outputs": [],
   "source": [
    "import pandas as pd\n",
    "import numpy as np\n",
    "import matplotlib.pyplot as plt\n",
    "import matplotlib.image as mpimg\n",
    "import time\n",
    "import datetime\n",
    "from sklearn import preprocessing\n",
    "from PIL import Image as im \n"
   ]
  },
  {
   "cell_type": "code",
   "execution_count": 6,
   "metadata": {},
   "outputs": [],
   "source": [
    "data = pd.read_csv('Test_data_image_outlier_detection.csv', sep=';')"
   ]
  },
  {
   "cell_type": "code",
   "execution_count": 150,
   "metadata": {},
   "outputs": [],
   "source": [
    "unit_1000 = (data\n",
    "             .loc[data.group_id == 1002]\n",
    "             #.set_index('period')\n",
    "             .drop('group_id', axis = 1)\n",
    "            )\n",
    "unit_1000['period'] = pd.to_datetime(unit_1000['period'] , format='%Y-%m')\n",
    "df = unit_1000.set_index('period').drop(['cat_1', 'cat_2'], axis=1)"
   ]
  },
  {
   "cell_type": "code",
   "execution_count": 151,
   "metadata": {},
   "outputs": [
    {
     "data": {
      "text/html": [
       "<div>\n",
       "<style scoped>\n",
       "    .dataframe tbody tr th:only-of-type {\n",
       "        vertical-align: middle;\n",
       "    }\n",
       "\n",
       "    .dataframe tbody tr th {\n",
       "        vertical-align: top;\n",
       "    }\n",
       "\n",
       "    .dataframe thead th {\n",
       "        text-align: right;\n",
       "    }\n",
       "</style>\n",
       "<table border=\"1\" class=\"dataframe\">\n",
       "  <thead>\n",
       "    <tr style=\"text-align: right;\">\n",
       "      <th></th>\n",
       "      <th>count_1</th>\n",
       "      <th>count_2</th>\n",
       "      <th>count_3</th>\n",
       "      <th>float_1</th>\n",
       "      <th>float_2</th>\n",
       "      <th>float_3</th>\n",
       "      <th>float_4</th>\n",
       "      <th>cat_3</th>\n",
       "      <th>cat_4</th>\n",
       "      <th>cat_5</th>\n",
       "    </tr>\n",
       "    <tr>\n",
       "      <th>period</th>\n",
       "      <th></th>\n",
       "      <th></th>\n",
       "      <th></th>\n",
       "      <th></th>\n",
       "      <th></th>\n",
       "      <th></th>\n",
       "      <th></th>\n",
       "      <th></th>\n",
       "      <th></th>\n",
       "      <th></th>\n",
       "    </tr>\n",
       "  </thead>\n",
       "  <tbody>\n",
       "    <tr>\n",
       "      <th>2000-01-01</th>\n",
       "      <td>34434</td>\n",
       "      <td>19878</td>\n",
       "      <td>2</td>\n",
       "      <td>19.359057</td>\n",
       "      <td>1984.620394</td>\n",
       "      <td>1454.88</td>\n",
       "      <td>1268.810266</td>\n",
       "      <td>1</td>\n",
       "      <td>0</td>\n",
       "      <td>1</td>\n",
       "    </tr>\n",
       "    <tr>\n",
       "      <th>2000-02-01</th>\n",
       "      <td>5354</td>\n",
       "      <td>19878</td>\n",
       "      <td>4</td>\n",
       "      <td>17.231252</td>\n",
       "      <td>408.214836</td>\n",
       "      <td>1283.00</td>\n",
       "      <td>378.240073</td>\n",
       "      <td>1</td>\n",
       "      <td>0</td>\n",
       "      <td>1</td>\n",
       "    </tr>\n",
       "    <tr>\n",
       "      <th>2000-03-01</th>\n",
       "      <td>3</td>\n",
       "      <td>19878</td>\n",
       "      <td>8</td>\n",
       "      <td>20.264137</td>\n",
       "      <td>562.512166</td>\n",
       "      <td>2234.00</td>\n",
       "      <td>905.227607</td>\n",
       "      <td>2</td>\n",
       "      <td>1</td>\n",
       "      <td>0</td>\n",
       "    </tr>\n",
       "    <tr>\n",
       "      <th>2000-04-01</th>\n",
       "      <td>44</td>\n",
       "      <td>20000</td>\n",
       "      <td>16</td>\n",
       "      <td>11.194460</td>\n",
       "      <td>622.345983</td>\n",
       "      <td>1454.88</td>\n",
       "      <td>637.073577</td>\n",
       "      <td>2</td>\n",
       "      <td>0</td>\n",
       "      <td>1</td>\n",
       "    </tr>\n",
       "    <tr>\n",
       "      <th>2000-05-01</th>\n",
       "      <td>5</td>\n",
       "      <td>19878</td>\n",
       "      <td>32</td>\n",
       "      <td>16.788513</td>\n",
       "      <td>897.153680</td>\n",
       "      <td>1445.90</td>\n",
       "      <td>319.140963</td>\n",
       "      <td>3</td>\n",
       "      <td>0</td>\n",
       "      <td>1</td>\n",
       "    </tr>\n",
       "    <tr>\n",
       "      <th>2000-06-01</th>\n",
       "      <td>744</td>\n",
       "      <td>19878</td>\n",
       "      <td>64</td>\n",
       "      <td>10.941482</td>\n",
       "      <td>1522.153869</td>\n",
       "      <td>1223.00</td>\n",
       "      <td>987.604305</td>\n",
       "      <td>3</td>\n",
       "      <td>0</td>\n",
       "      <td>1</td>\n",
       "    </tr>\n",
       "    <tr>\n",
       "      <th>2000-07-01</th>\n",
       "      <td>3</td>\n",
       "      <td>19878</td>\n",
       "      <td>128</td>\n",
       "      <td>16.390969</td>\n",
       "      <td>1904.435815</td>\n",
       "      <td>1455.00</td>\n",
       "      <td>1128.411498</td>\n",
       "      <td>4</td>\n",
       "      <td>1</td>\n",
       "      <td>0</td>\n",
       "    </tr>\n",
       "    <tr>\n",
       "      <th>2000-08-01</th>\n",
       "      <td>2</td>\n",
       "      <td>19878</td>\n",
       "      <td>256</td>\n",
       "      <td>18.103371</td>\n",
       "      <td>585.265277</td>\n",
       "      <td>0.00</td>\n",
       "      <td>421.316929</td>\n",
       "      <td>3</td>\n",
       "      <td>1</td>\n",
       "      <td>1</td>\n",
       "    </tr>\n",
       "    <tr>\n",
       "      <th>2000-09-01</th>\n",
       "      <td>46</td>\n",
       "      <td>20000</td>\n",
       "      <td>512</td>\n",
       "      <td>19.108483</td>\n",
       "      <td>926.346540</td>\n",
       "      <td>0.00</td>\n",
       "      <td>1347.730352</td>\n",
       "      <td>4</td>\n",
       "      <td>0</td>\n",
       "      <td>1</td>\n",
       "    </tr>\n",
       "    <tr>\n",
       "      <th>2000-10-01</th>\n",
       "      <td>4</td>\n",
       "      <td>19878</td>\n",
       "      <td>1024</td>\n",
       "      <td>13.410423</td>\n",
       "      <td>1323.761109</td>\n",
       "      <td>0.00</td>\n",
       "      <td>845.396806</td>\n",
       "      <td>4</td>\n",
       "      <td>0</td>\n",
       "      <td>1</td>\n",
       "    </tr>\n",
       "    <tr>\n",
       "      <th>2000-11-01</th>\n",
       "      <td>4</td>\n",
       "      <td>19878</td>\n",
       "      <td>2048</td>\n",
       "      <td>18.837280</td>\n",
       "      <td>672.996281</td>\n",
       "      <td>0.00</td>\n",
       "      <td>630.630217</td>\n",
       "      <td>5</td>\n",
       "      <td>0</td>\n",
       "      <td>1</td>\n",
       "    </tr>\n",
       "    <tr>\n",
       "      <th>2000-12-01</th>\n",
       "      <td>5666</td>\n",
       "      <td>19878</td>\n",
       "      <td>4096</td>\n",
       "      <td>18.631624</td>\n",
       "      <td>1427.052209</td>\n",
       "      <td>0.00</td>\n",
       "      <td>436.212077</td>\n",
       "      <td>5</td>\n",
       "      <td>1</td>\n",
       "      <td>0</td>\n",
       "    </tr>\n",
       "  </tbody>\n",
       "</table>\n",
       "</div>"
      ],
      "text/plain": [
       "            count_1  count_2  count_3    float_1      float_2  float_3  \\\n",
       "period                                                                   \n",
       "2000-01-01    34434    19878        2  19.359057  1984.620394  1454.88   \n",
       "2000-02-01     5354    19878        4  17.231252   408.214836  1283.00   \n",
       "2000-03-01        3    19878        8  20.264137   562.512166  2234.00   \n",
       "2000-04-01       44    20000       16  11.194460   622.345983  1454.88   \n",
       "2000-05-01        5    19878       32  16.788513   897.153680  1445.90   \n",
       "2000-06-01      744    19878       64  10.941482  1522.153869  1223.00   \n",
       "2000-07-01        3    19878      128  16.390969  1904.435815  1455.00   \n",
       "2000-08-01        2    19878      256  18.103371   585.265277     0.00   \n",
       "2000-09-01       46    20000      512  19.108483   926.346540     0.00   \n",
       "2000-10-01        4    19878     1024  13.410423  1323.761109     0.00   \n",
       "2000-11-01        4    19878     2048  18.837280   672.996281     0.00   \n",
       "2000-12-01     5666    19878     4096  18.631624  1427.052209     0.00   \n",
       "\n",
       "                float_4  cat_3  cat_4  cat_5  \n",
       "period                                        \n",
       "2000-01-01  1268.810266      1      0      1  \n",
       "2000-02-01   378.240073      1      0      1  \n",
       "2000-03-01   905.227607      2      1      0  \n",
       "2000-04-01   637.073577      2      0      1  \n",
       "2000-05-01   319.140963      3      0      1  \n",
       "2000-06-01   987.604305      3      0      1  \n",
       "2000-07-01  1128.411498      4      1      0  \n",
       "2000-08-01   421.316929      3      1      1  \n",
       "2000-09-01  1347.730352      4      0      1  \n",
       "2000-10-01   845.396806      4      0      1  \n",
       "2000-11-01   630.630217      5      0      1  \n",
       "2000-12-01   436.212077      5      1      0  "
      ]
     },
     "execution_count": 151,
     "metadata": {},
     "output_type": "execute_result"
    }
   ],
   "source": [
    "df.head(12)"
   ]
  },
  {
   "cell_type": "code",
   "execution_count": 152,
   "metadata": {},
   "outputs": [
    {
     "data": {
      "image/png": "[encoded data removed]",
      "text/plain": [
       "<Figure size 432x288 with 1 Axes>"
      ]
     },
     "metadata": {
      "needs_background": "light"
     },
     "output_type": "display_data"
    }
   ],
   "source": [
    "img = []\n",
    "for col in df.columns:\n",
    "    listed_col = list(df[col])\n",
    "    norm_col = preprocessing.normalize([listed_col])\n",
    "    img.append(norm_col)\n",
    "img_array = np.array(img)\n",
    "img_array = np.reshape(img_array, (len(df.columns), len(df)))\n",
    "#unit = im.fromarray(img_array)\n",
    "imgplot = plt.imshow(img_array)"
   ]
  },
  {
   "cell_type": "code",
   "execution_count": 153,
   "metadata": {},
   "outputs": [
    {
     "data": {
      "image/png": "[encoded data removed]",
      "text/plain": [
       "<Figure size 432x288 with 1 Axes>"
      ]
     },
     "metadata": {
      "needs_background": "light"
     },
     "output_type": "display_data"
    }
   ],
   "source": [
    "img = []\n",
    "for col in df.columns:\n",
    "    listed_col = list(df[col])\n",
    "    norm_col = preprocessing.normalize([listed_col])\n",
    "    column = []\n",
    "    for row in list(norm_col[0]):\n",
    "        list_val = []\n",
    "        list_val.insert(0,row)\n",
    "        list_val.insert(1,row)\n",
    "        list_val.insert(2,row)\n",
    "        column.append(list_val)\n",
    "    img.append(column)\n",
    "imgplot = plt.imshow(img)"
   ]
  },
  {
   "cell_type": "code",
   "execution_count": 143,
   "metadata": {},
   "outputs": [
    {
     "data": {
      "text/plain": [
       "<matplotlib.colorbar.Colorbar at 0x7fe2907483a0>"
      ]
     },
     "execution_count": 143,
     "metadata": {},
     "output_type": "execute_result"
    },
    {
     "data": {
      "image/png": "[encoded data removed]",
      "text/plain": [
       "<Figure size 432x288 with 2 Axes>"
      ]
     },
     "metadata": {
      "needs_background": "light"
     },
     "output_type": "display_data"
    }
   ],
   "source": [
    "plt.imshow(img_array, cmap=\"hot\")\n",
    "plt.colorbar()"
   ]
  },
  {
   "cell_type": "code",
   "execution_count": 139,
   "metadata": {},
   "outputs": [
    {
     "ename": "IndexError",
     "evalue": "too many indices for array",
     "output_type": "error",
     "traceback": [
      "\u001b[0;31m---------------------------------------------------------------------------\u001b[0m",
      "\u001b[0;31mIndexError\u001b[0m                                Traceback (most recent call last)",
      "\u001b[0;32m<ipython-input-139-5905d0e560f1>\u001b[0m in \u001b[0;36m<module>\u001b[0;34m\u001b[0m\n\u001b[0;32m----> 1\u001b[0;31m \u001b[0mlum_img\u001b[0m \u001b[0;34m=\u001b[0m \u001b[0mimg_array\u001b[0m\u001b[0;34m[\u001b[0m\u001b[0;34m:\u001b[0m\u001b[0;34m,\u001b[0m \u001b[0;34m:\u001b[0m\u001b[0;34m,\u001b[0m \u001b[0;36m0\u001b[0m\u001b[0;34m]\u001b[0m\u001b[0;34m\u001b[0m\u001b[0;34m\u001b[0m\u001b[0m\n\u001b[0m\u001b[1;32m      2\u001b[0m \u001b[0mplt\u001b[0m\u001b[0;34m.\u001b[0m\u001b[0mimshow\u001b[0m\u001b[0;34m(\u001b[0m\u001b[0mlum_img\u001b[0m\u001b[0;34m)\u001b[0m\u001b[0;34m\u001b[0m\u001b[0;34m\u001b[0m\u001b[0m\n",
      "\u001b[0;31mIndexError\u001b[0m: too many indices for array"
     ]
    }
   ],
   "source": [
    "lum_img = img_array[:, :, 0]\n",
    "plt.imshow(lum_img)"
   ]
  },
  {
   "cell_type": "code",
   "execution_count": 120,
   "metadata": {
    "collapsed": true,
    "jupyter": {
     "outputs_hidden": true
    }
   },
   "outputs": [
    {
     "data": {
      "text/plain": [
       "array([[[9.82693289e-03, 9.82693289e-03, 9.82693289e-03],\n",
       "        [4.50088529e-05, 4.50088529e-05, 4.50088529e-05],\n",
       "        [5.47112613e-01, 5.47112613e-01, 5.47112613e-01],\n",
       "        [1.30375644e-02, 1.30375644e-02, 1.30375644e-02],\n",
       "        [8.46166435e-03, 8.46166435e-03, 8.46166435e-03],\n",
       "        [4.50088529e-05, 4.50088529e-05, 4.50088529e-05],\n",
       "        [1.14772575e-02, 1.14772575e-02, 1.14772575e-02],\n",
       "        [5.17601809e-03, 5.17601809e-03, 5.17601809e-03],\n",
       "        [5.18351956e-02, 5.18351956e-02, 5.18351956e-02],\n",
       "        [5.16101514e-03, 5.16101514e-03, 5.16101514e-03],\n",
       "        [8.35139266e-01, 8.35139266e-01, 8.35139266e-01],\n",
       "        [4.50088529e-05, 4.50088529e-05, 4.50088529e-05]],\n",
       "\n",
       "       [[3.01509979e-01, 3.01509979e-01, 3.01509979e-01],\n",
       "        [3.01509979e-01, 3.01509979e-01, 3.01509979e-01],\n",
       "        [3.01509979e-01, 3.01509979e-01, 3.01509979e-01],\n",
       "        [3.01509979e-01, 3.01509979e-01, 3.01509979e-01],\n",
       "        [3.01509979e-01, 3.01509979e-01, 3.01509979e-01],\n",
       "        [3.01509979e-01, 3.01509979e-01, 3.01509979e-01],\n",
       "        [3.01509979e-01, 3.01509979e-01, 3.01509979e-01],\n",
       "        [3.00918322e-03, 3.00918322e-03, 3.00918322e-03],\n",
       "        [3.01509979e-01, 3.01509979e-01, 3.01509979e-01],\n",
       "        [3.01509979e-01, 3.01509979e-01, 3.01509979e-01],\n",
       "        [3.01509979e-01, 3.01509979e-01, 3.01509979e-01],\n",
       "        [3.01509979e-01, 3.01509979e-01, 3.01509979e-01]],\n",
       "\n",
       "       [[7.50586625e-03, 7.50586625e-03, 7.50586625e-03],\n",
       "        [1.50117325e-02, 1.50117325e-02, 1.50117325e-02],\n",
       "        [2.25175988e-02, 2.25175988e-02, 2.25175988e-02],\n",
       "        [3.00234650e-02, 3.00234650e-02, 3.00234650e-02],\n",
       "        [5.02893039e-01, 5.02893039e-01, 5.02893039e-01],\n",
       "        [6.68022096e-01, 6.68022096e-01, 6.68022096e-01],\n",
       "        [4.20328510e-01, 4.20328510e-01, 4.20328510e-01],\n",
       "        [2.70211185e-01, 2.70211185e-01, 2.70211185e-01],\n",
       "        [1.80140790e-01, 1.80140790e-01, 1.80140790e-01],\n",
       "        [8.25645288e-02, 8.25645288e-02, 8.25645288e-02],\n",
       "        [7.50586625e-02, 7.50586625e-02, 7.50586625e-02],\n",
       "        [6.75527963e-02, 6.75527963e-02, 6.75527963e-02]],\n",
       "\n",
       "       [[2.08193165e-01, 2.08193165e-01, 2.08193165e-01],\n",
       "        [2.92829684e-01, 2.92829684e-01, 2.92829684e-01],\n",
       "        [2.40364088e-01, 2.40364088e-01, 2.40364088e-01],\n",
       "        [3.39654807e-01, 3.39654807e-01, 3.39654807e-01],\n",
       "        [3.53363858e-01, 3.53363858e-01, 3.53363858e-01],\n",
       "        [2.64572787e-01, 2.64572787e-01, 2.64572787e-01],\n",
       "        [3.29169219e-01, 3.29169219e-01, 3.29169219e-01],\n",
       "        [3.00535106e-01, 3.00535106e-01, 3.00535106e-01],\n",
       "        [2.91356821e-01, 2.91356821e-01, 2.91356821e-01],\n",
       "        [2.45487254e-01, 2.45487254e-01, 2.45487254e-01],\n",
       "        [2.81715113e-01, 2.81715113e-01, 2.81715113e-01],\n",
       "        [2.82332082e-01, 2.82332082e-01, 2.82332082e-01]],\n",
       "\n",
       "       [[2.61517663e-01, 2.61517663e-01, 2.61517663e-01],\n",
       "        [3.74518395e-01, 3.74518395e-01, 3.74518395e-01],\n",
       "        [1.56736496e-01, 1.56736496e-01, 1.56736496e-01],\n",
       "        [3.57211543e-01, 3.57211543e-01, 3.57211543e-01],\n",
       "        [2.65250584e-01, 2.65250584e-01, 2.65250584e-01],\n",
       "        [1.79636111e-01, 1.79636111e-01, 1.79636111e-01],\n",
       "        [7.86709548e-02, 7.86709548e-02, 7.86709548e-02],\n",
       "        [2.84346521e-01, 2.84346521e-01, 2.84346521e-01],\n",
       "        [3.26493434e-01, 3.26493434e-01, 3.26493434e-01],\n",
       "        [3.51058873e-01, 3.51058873e-01, 3.51058873e-01],\n",
       "        [2.96386036e-01, 2.96386036e-01, 2.96386036e-01],\n",
       "        [3.63075782e-01, 3.63075782e-01, 3.63075782e-01]],\n",
       "\n",
       "       [[1.09031543e-02, 1.09031543e-02, 1.09031543e-02],\n",
       "        [1.08033086e-02, 1.08033086e-02, 1.08033086e-02],\n",
       "        [1.09331081e-02, 1.09331081e-02, 1.09331081e-02],\n",
       "        [9.99355969e-01, 9.99355969e-01, 9.99355969e-01],\n",
       "        [1.04538485e-02, 1.04538485e-02, 1.04538485e-02],\n",
       "        [1.05167513e-02, 1.05167513e-02, 1.05167513e-02],\n",
       "        [1.00045427e-02, 1.00045427e-02, 1.00045427e-02],\n",
       "        [1.08033086e-02, 1.08033086e-02, 1.08033086e-02],\n",
       "        [1.04538485e-02, 1.04538485e-02, 1.04538485e-02],\n",
       "        [1.05167513e-02, 1.05167513e-02, 1.05167513e-02],\n",
       "        [1.04538485e-02, 1.04538485e-02, 1.04538485e-02],\n",
       "        [1.29100536e-02, 1.29100536e-02, 1.29100536e-02]],\n",
       "\n",
       "       [[1.27107375e-01, 1.27107375e-01, 1.27107375e-01],\n",
       "        [0.00000000e+00, 0.00000000e+00, 0.00000000e+00],\n",
       "        [5.82143968e-01, 5.82143968e-01, 5.82143968e-01],\n",
       "        [0.00000000e+00, 0.00000000e+00, 0.00000000e+00],\n",
       "        [2.39900196e-01, 2.39900196e-01, 2.39900196e-01],\n",
       "        [0.00000000e+00, 0.00000000e+00, 0.00000000e+00],\n",
       "        [4.02264141e-01, 4.02264141e-01, 4.02264141e-01],\n",
       "        [0.00000000e+00, 0.00000000e+00, 0.00000000e+00],\n",
       "        [5.65773293e-01, 5.65773293e-01, 5.65773293e-01],\n",
       "        [0.00000000e+00, 0.00000000e+00, 0.00000000e+00],\n",
       "        [3.24783241e-01, 3.24783241e-01, 3.24783241e-01],\n",
       "        [0.00000000e+00, 0.00000000e+00, 0.00000000e+00]],\n",
       "\n",
       "       [[4.08248290e-01, 4.08248290e-01, 4.08248290e-01],\n",
       "        [0.00000000e+00, 0.00000000e+00, 0.00000000e+00],\n",
       "        [4.08248290e-01, 4.08248290e-01, 4.08248290e-01],\n",
       "        [0.00000000e+00, 0.00000000e+00, 0.00000000e+00],\n",
       "        [4.08248290e-01, 4.08248290e-01, 4.08248290e-01],\n",
       "        [0.00000000e+00, 0.00000000e+00, 0.00000000e+00],\n",
       "        [4.08248290e-01, 4.08248290e-01, 4.08248290e-01],\n",
       "        [0.00000000e+00, 0.00000000e+00, 0.00000000e+00],\n",
       "        [4.08248290e-01, 4.08248290e-01, 4.08248290e-01],\n",
       "        [0.00000000e+00, 0.00000000e+00, 0.00000000e+00],\n",
       "        [4.08248290e-01, 4.08248290e-01, 4.08248290e-01],\n",
       "        [0.00000000e+00, 0.00000000e+00, 0.00000000e+00]],\n",
       "\n",
       "       [[3.88075263e-02, 3.88075263e-02, 3.88075263e-02],\n",
       "        [5.82112894e-02, 5.82112894e-02, 5.82112894e-02],\n",
       "        [3.88075263e-02, 3.88075263e-02, 3.88075263e-02],\n",
       "        [3.88075263e-02, 3.88075263e-02, 3.88075263e-02],\n",
       "        [5.82112894e-02, 5.82112894e-02, 5.82112894e-02],\n",
       "        [3.88075263e-02, 3.88075263e-02, 3.88075263e-02],\n",
       "        [0.00000000e+00, 0.00000000e+00, 0.00000000e+00],\n",
       "        [3.88075263e-02, 3.88075263e-02, 3.88075263e-02],\n",
       "        [5.82112894e-02, 5.82112894e-02, 5.82112894e-02],\n",
       "        [9.89591920e-01, 9.89591920e-01, 9.89591920e-01],\n",
       "        [3.88075263e-02, 3.88075263e-02, 3.88075263e-02],\n",
       "        [3.88075263e-02, 3.88075263e-02, 3.88075263e-02]],\n",
       "\n",
       "       [[1.11803399e-01, 1.11803399e-01, 1.11803399e-01],\n",
       "        [1.11803399e-01, 1.11803399e-01, 1.11803399e-01],\n",
       "        [1.11803399e-01, 1.11803399e-01, 1.11803399e-01],\n",
       "        [1.11803399e-01, 1.11803399e-01, 1.11803399e-01],\n",
       "        [2.23606798e-01, 2.23606798e-01, 2.23606798e-01],\n",
       "        [2.23606798e-01, 2.23606798e-01, 2.23606798e-01],\n",
       "        [3.35410197e-01, 3.35410197e-01, 3.35410197e-01],\n",
       "        [3.35410197e-01, 3.35410197e-01, 3.35410197e-01],\n",
       "        [3.35410197e-01, 3.35410197e-01, 3.35410197e-01],\n",
       "        [3.35410197e-01, 3.35410197e-01, 3.35410197e-01],\n",
       "        [4.47213595e-01, 4.47213595e-01, 4.47213595e-01],\n",
       "        [4.47213595e-01, 4.47213595e-01, 4.47213595e-01]],\n",
       "\n",
       "       [[0.00000000e+00, 0.00000000e+00, 0.00000000e+00],\n",
       "        [0.00000000e+00, 0.00000000e+00, 0.00000000e+00],\n",
       "        [4.47213595e-01, 4.47213595e-01, 4.47213595e-01],\n",
       "        [4.47213595e-01, 4.47213595e-01, 4.47213595e-01],\n",
       "        [0.00000000e+00, 0.00000000e+00, 0.00000000e+00],\n",
       "        [0.00000000e+00, 0.00000000e+00, 0.00000000e+00],\n",
       "        [4.47213595e-01, 4.47213595e-01, 4.47213595e-01],\n",
       "        [0.00000000e+00, 0.00000000e+00, 0.00000000e+00],\n",
       "        [0.00000000e+00, 0.00000000e+00, 0.00000000e+00],\n",
       "        [4.47213595e-01, 4.47213595e-01, 4.47213595e-01],\n",
       "        [0.00000000e+00, 0.00000000e+00, 0.00000000e+00],\n",
       "        [4.47213595e-01, 4.47213595e-01, 4.47213595e-01]],\n",
       "\n",
       "       [[4.08248290e-01, 4.08248290e-01, 4.08248290e-01],\n",
       "        [4.08248290e-01, 4.08248290e-01, 4.08248290e-01],\n",
       "        [0.00000000e+00, 0.00000000e+00, 0.00000000e+00],\n",
       "        [0.00000000e+00, 0.00000000e+00, 0.00000000e+00],\n",
       "        [4.08248290e-01, 4.08248290e-01, 4.08248290e-01],\n",
       "        [4.08248290e-01, 4.08248290e-01, 4.08248290e-01],\n",
       "        [0.00000000e+00, 0.00000000e+00, 0.00000000e+00],\n",
       "        [0.00000000e+00, 0.00000000e+00, 0.00000000e+00],\n",
       "        [4.08248290e-01, 4.08248290e-01, 4.08248290e-01],\n",
       "        [0.00000000e+00, 0.00000000e+00, 0.00000000e+00],\n",
       "        [4.08248290e-01, 4.08248290e-01, 4.08248290e-01],\n",
       "        [0.00000000e+00, 0.00000000e+00, 0.00000000e+00]]])"
      ]
     },
     "execution_count": 120,
     "metadata": {},
     "output_type": "execute_result"
    }
   ],
   "source": [
    "np.reshape(array, (1024, 720))\n",
    "img = im.fromarray(unit_array)"
   ]
  },
  {
   "cell_type": "code",
   "execution_count": 123,
   "metadata": {},
   "outputs": [
    {
     "data": {
      "image/png": "[encoded data removed]",
      "text/plain": [
       "<Figure size 432x288 with 1 Axes>"
      ]
     },
     "metadata": {
      "needs_background": "light"
     },
     "output_type": "display_data"
    }
   ],
   "source": []
  },
  {
   "cell_type": "code",
   "execution_count": 105,
   "metadata": {},
   "outputs": [
    {
     "ename": "TypeError",
     "evalue": "list indices must be integers or slices, not tuple",
     "output_type": "error",
     "traceback": [
      "\u001b[0;31m---------------------------------------------------------------------------\u001b[0m",
      "\u001b[0;31mTypeError\u001b[0m                                 Traceback (most recent call last)",
      "\u001b[0;32m<ipython-input-105-3f6ef759eca8>\u001b[0m in \u001b[0;36m<module>\u001b[0;34m\u001b[0m\n\u001b[0;32m----> 1\u001b[0;31m \u001b[0mlum_img\u001b[0m \u001b[0;34m=\u001b[0m \u001b[0mimg\u001b[0m\u001b[0;34m[\u001b[0m\u001b[0;34m:\u001b[0m\u001b[0;34m,\u001b[0m \u001b[0;34m:\u001b[0m\u001b[0;34m,\u001b[0m \u001b[0;36m0\u001b[0m\u001b[0;34m]\u001b[0m\u001b[0;34m\u001b[0m\u001b[0;34m\u001b[0m\u001b[0m\n\u001b[0m\u001b[1;32m      2\u001b[0m \u001b[0mplt\u001b[0m\u001b[0;34m.\u001b[0m\u001b[0mimshow\u001b[0m\u001b[0;34m(\u001b[0m\u001b[0mlum_img\u001b[0m\u001b[0;34m)\u001b[0m\u001b[0;34m\u001b[0m\u001b[0;34m\u001b[0m\u001b[0m\n",
      "\u001b[0;31mTypeError\u001b[0m: list indices must be integers or slices, not tuple"
     ]
    }
   ],
   "source": [
    "lum_img = img[:, :, 0]\n",
    "plt.imshow(lum_img)"
   ]
  },
  {
   "cell_type": "code",
   "execution_count": 106,
   "metadata": {},
   "outputs": [
    {
     "data": {
      "text/plain": [
       "<matplotlib.image.AxesImage at 0x7fe2704408e0>"
      ]
     },
     "execution_count": 106,
     "metadata": {},
     "output_type": "execute_result"
    },
    {
     "data": {
      "image/png": "[encoded data removed]",
      "text/plain": [
       "<Figure size 432x288 with 1 Axes>"
      ]
     },
     "metadata": {
      "needs_background": "light"
     },
     "output_type": "display_data"
    }
   ],
   "source": [
    "plt.imshow(img, cmap=\"hot\")"
   ]
  },
  {
   "cell_type": "code",
   "execution_count": null,
   "metadata": {},
   "outputs": [],
   "source": []
  }
 ],
 "metadata": {
  "kernelspec": {
   "display_name": "Python 3",
   "language": "python",
   "name": "python3"
  },
  "language_info": {
   "codemirror_mode": {
    "name": "ipython",
    "version": 3
   },
   "file_extension": ".py",
   "mimetype": "text/x-python",
   "name": "python",
   "nbconvert_exporter": "python",
   "pygments_lexer": "ipython3",
   "version": "3.8.3"
  }
 },
 "nbformat": 4,
 "nbformat_minor": 4
}
