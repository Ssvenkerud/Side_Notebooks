{
 "cells": [
  {
   "cell_type": "markdown",
   "metadata": {},
   "source": [
    "# Hamming Code\n",
    "\n",
    "This notebook contains my playing around with Hamming Code Error correction\n",
    "The staer is inspired by 3Blue1Brown, but i seek to build on that for scaling and "
   ]
  },
  {
   "cell_type": "code",
   "execution_count": 1,
   "metadata": {},
   "outputs": [],
   "source": [
    "import operator as op\n",
    "import numpy as np\n",
    "import random\n",
    "from functools import reduce\n",
    "import math\n",
    "import itertools"
   ]
  },
  {
   "cell_type": "code",
   "execution_count": 2,
   "metadata": {},
   "outputs": [],
   "source": [
    "bits = np.random.randint(0,2,16)"
   ]
  },
  {
   "cell_type": "code",
   "execution_count": 3,
   "metadata": {},
   "outputs": [
    {
     "data": {
      "text/plain": [
       "array([1, 1, 1, 1, 1, 0, 0, 1, 0, 1, 1, 0, 1, 0, 0, 1])"
      ]
     },
     "execution_count": 3,
     "metadata": {},
     "output_type": "execute_result"
    }
   ],
   "source": [
    "bits"
   ]
  },
  {
   "cell_type": "code",
   "execution_count": 4,
   "metadata": {},
   "outputs": [
    {
     "data": {
      "text/plain": [
       "[(0, 1),\n",
       " (1, 1),\n",
       " (2, 1),\n",
       " (3, 1),\n",
       " (4, 1),\n",
       " (5, 0),\n",
       " (6, 0),\n",
       " (7, 1),\n",
       " (8, 0),\n",
       " (9, 1),\n",
       " (10, 1),\n",
       " (11, 0),\n",
       " (12, 1),\n",
       " (13, 0),\n",
       " (14, 0),\n",
       " (15, 1)]"
      ]
     },
     "execution_count": 4,
     "metadata": {},
     "output_type": "execute_result"
    }
   ],
   "source": [
    "list(enumerate(bits))"
   ]
  },
  {
   "cell_type": "code",
   "execution_count": 5,
   "metadata": {},
   "outputs": [
    {
     "data": {
      "text/plain": [
       "[0, 1, 2, 3, 4, 5, 6, 7, 8, 9, 10, 11, 12, 13, 14, 15]"
      ]
     },
     "execution_count": 5,
     "metadata": {},
     "output_type": "execute_result"
    }
   ],
   "source": [
    "[i for i , bit in enumerate(bits)]"
   ]
  },
  {
   "cell_type": "code",
   "execution_count": 6,
   "metadata": {},
   "outputs": [
    {
     "data": {
      "text/plain": [
       "[0, 1, 2, 3, 4, 7, 9, 10, 12, 15]"
      ]
     },
     "execution_count": 6,
     "metadata": {},
     "output_type": "execute_result"
    }
   ],
   "source": [
    "[i for i , bit in enumerate(bits) if bit]"
   ]
  },
  {
   "cell_type": "code",
   "execution_count": 7,
   "metadata": {},
   "outputs": [
    {
     "data": {
      "text/plain": [
       "[1, 1, 1, 1, 1, 1, 1, 1, 1, 1]"
      ]
     },
     "execution_count": 7,
     "metadata": {},
     "output_type": "execute_result"
    }
   ],
   "source": [
    "[bit for i , bit in enumerate(bits) if bit]"
   ]
  },
  {
   "cell_type": "code",
   "execution_count": 8,
   "metadata": {},
   "outputs": [
    {
     "data": {
      "text/plain": [
       "3"
      ]
     },
     "execution_count": 8,
     "metadata": {},
     "output_type": "execute_result"
    }
   ],
   "source": [
    "reduce(op.xor, [i for i , bit in enumerate(bits) if bit])"
   ]
  },
  {
   "cell_type": "code",
   "execution_count": 9,
   "metadata": {},
   "outputs": [
    {
     "data": {
      "text/plain": [
       "'0b11'"
      ]
     },
     "execution_count": 9,
     "metadata": {},
     "output_type": "execute_result"
    }
   ],
   "source": [
    "bin(reduce(op.xor, [i for i , bit in enumerate(bits) if bit]))"
   ]
  },
  {
   "cell_type": "markdown",
   "metadata": {},
   "source": [
    "Manipulate bitstring to get the parity = 0"
   ]
  },
  {
   "cell_type": "code",
   "execution_count": 10,
   "metadata": {},
   "outputs": [],
   "source": [
    "bits[8] = not bits[8]\n",
    "bits[1] = not bits[1]"
   ]
  },
  {
   "cell_type": "code",
   "execution_count": 11,
   "metadata": {},
   "outputs": [
    {
     "data": {
      "text/plain": [
       "10"
      ]
     },
     "execution_count": 11,
     "metadata": {},
     "output_type": "execute_result"
    }
   ],
   "source": [
    "reduce(op.xor, [i for i , bit in enumerate(bits) if bit])"
   ]
  },
  {
   "cell_type": "markdown",
   "metadata": {},
   "source": [
    "add an error"
   ]
  },
  {
   "cell_type": "code",
   "execution_count": 12,
   "metadata": {},
   "outputs": [],
   "source": [
    "bits[10] = not bits[10]"
   ]
  },
  {
   "cell_type": "code",
   "execution_count": 13,
   "metadata": {},
   "outputs": [
    {
     "data": {
      "text/plain": [
       "0"
      ]
     },
     "execution_count": 13,
     "metadata": {},
     "output_type": "execute_result"
    }
   ],
   "source": [
    "reduce(op.xor, [i for i , bit in enumerate(bits) if bit])"
   ]
  },
  {
   "cell_type": "markdown",
   "metadata": {},
   "source": [
    "Function from 3Blue1Brown"
   ]
  },
  {
   "cell_type": "code",
   "execution_count": 2,
   "metadata": {},
   "outputs": [],
   "source": [
    "def Hamming_syndrome(bits):\n",
    "    return reduce(op.xor, [i for i , b in enumerate(bits) if b])"
   ]
  },
  {
   "cell_type": "code",
   "execution_count": 15,
   "metadata": {},
   "outputs": [
    {
     "data": {
      "text/plain": [
       "0"
      ]
     },
     "execution_count": 15,
     "metadata": {},
     "output_type": "execute_result"
    }
   ],
   "source": [
    "Hamming_syndrome(bits)"
   ]
  },
  {
   "cell_type": "markdown",
   "metadata": {},
   "source": [
    "## Start om my own work\n",
    "Up until now I followed along with the 3Blue1Brown series on the Hamming code. Going on from here, I plan to look at how to scale and implement it on an arbitrary sised array.\n",
    "\n",
    "### Create the Hamming encoded bitstring\n",
    "\n",
    "The initial step is to create a function that takes an arbitrary* bites length of data end encodes it with the Hamming Parity bites.\n",
    "\n",
    "*= constrained to powers of 2"
   ]
  },
  {
   "cell_type": "code",
   "execution_count": 3,
   "metadata": {},
   "outputs": [],
   "source": [
    "#check if value is a power of 2\n",
    "def power_of_two(n): \n",
    "    if (n == 0): \n",
    "        return False\n",
    "    while (n != 1): \n",
    "            if (n % 2 != 0): \n",
    "                return False\n",
    "            n = n // 2\n",
    "              \n",
    "    return True"
   ]
  },
  {
   "cell_type": "code",
   "execution_count": 17,
   "metadata": {},
   "outputs": [
    {
     "data": {
      "text/plain": [
       "True"
      ]
     },
     "execution_count": 17,
     "metadata": {},
     "output_type": "execute_result"
    }
   ],
   "source": [
    "power_of_two(16)"
   ]
  },
  {
   "cell_type": "code",
   "execution_count": 18,
   "metadata": {},
   "outputs": [
    {
     "name": "stdout",
     "output_type": "stream",
     "text": [
      "0\n",
      "0\n",
      "1\n",
      "0\n"
     ]
    }
   ],
   "source": [
    "# print the vlaue for bit possitions with the value power 2\n",
    "for position, bit  in enumerate(bits):\n",
    "    if power_of_two(position)==True:\n",
    "        print (bit)"
   ]
  },
  {
   "cell_type": "markdown",
   "metadata": {},
   "source": [
    "For a 16 bit hamming mesage we have 11 information carying bits, the rest are redundancy"
   ]
  },
  {
   "cell_type": "code",
   "execution_count": 19,
   "metadata": {},
   "outputs": [
    {
     "data": {
      "text/plain": [
       "array([1, 0, 1, 1, 1, 0, 0, 1, 0, 1, 0])"
      ]
     },
     "execution_count": 19,
     "metadata": {},
     "output_type": "execute_result"
    }
   ],
   "source": [
    "#create a message to encode\n",
    "message = np.random.randint(0,2,11)\n",
    "message"
   ]
  },
  {
   "cell_type": "code",
   "execution_count": 20,
   "metadata": {},
   "outputs": [
    {
     "name": "stdout",
     "output_type": "stream",
     "text": [
      "True\n",
      "True\n",
      "False\n",
      "True\n",
      "False\n",
      "False\n",
      "False\n",
      "True\n",
      "False\n",
      "False\n",
      "False\n",
      "False\n",
      "False\n",
      "False\n",
      "False\n",
      "True\n"
     ]
    }
   ],
   "source": [
    "block = 16\n",
    "for position in range(1, block+1):\n",
    "    print(power_of_two(position))"
   ]
  },
  {
   "cell_type": "code",
   "execution_count": 21,
   "metadata": {},
   "outputs": [
    {
     "data": {
      "text/plain": [
       "False"
      ]
     },
     "execution_count": 21,
     "metadata": {},
     "output_type": "execute_result"
    }
   ],
   "source": [
    "power_of_two(0)"
   ]
  },
  {
   "cell_type": "code",
   "execution_count": 22,
   "metadata": {},
   "outputs": [],
   "source": [
    "encoded_message = []\n",
    "message_position = 0\n",
    "for position in range(0, block):\n",
    "    if position==0:\n",
    "        encoded_message.append(0)\n",
    "    elif power_of_two(position)==True:\n",
    "        encoded_message.append(0)\n",
    "    else:\n",
    "        encoded_message.append(message[message_position])\n",
    "        message_position =message_position+ 1"
   ]
  },
  {
   "cell_type": "code",
   "execution_count": 23,
   "metadata": {},
   "outputs": [
    {
     "name": "stdout",
     "output_type": "stream",
     "text": [
      "[0, 0, 0, 1, 0, 0, 1, 1, 0, 1, 0, 0, 1, 0, 1, 0]\n",
      "[1 0 1 1 1 0 0 1 0 1 0]\n"
     ]
    }
   ],
   "source": [
    "print(encoded_message)\n",
    "print(message)"
   ]
  },
  {
   "cell_type": "code",
   "execution_count": 24,
   "metadata": {},
   "outputs": [
    {
     "data": {
      "text/plain": [
       "[(0, 0),\n",
       " (1, 0),\n",
       " (2, 0),\n",
       " (3, 1),\n",
       " (4, 0),\n",
       " (5, 0),\n",
       " (6, 1),\n",
       " (7, 1),\n",
       " (8, 0),\n",
       " (9, 1),\n",
       " (10, 0),\n",
       " (11, 0),\n",
       " (12, 1),\n",
       " (13, 0),\n",
       " (14, 1),\n",
       " (15, 0)]"
      ]
     },
     "execution_count": 24,
     "metadata": {},
     "output_type": "execute_result"
    }
   ],
   "source": [
    "list(enumerate(encoded_message))"
   ]
  },
  {
   "cell_type": "code",
   "execution_count": 25,
   "metadata": {},
   "outputs": [
    {
     "data": {
      "text/plain": [
       "[1, 3, 5, 7, 9, 11, 13, 15]"
      ]
     },
     "execution_count": 25,
     "metadata": {},
     "output_type": "execute_result"
    }
   ],
   "source": [
    "[i for i , bit in enumerate(bits) if (i%2)!=0]"
   ]
  },
  {
   "cell_type": "code",
   "execution_count": 26,
   "metadata": {},
   "outputs": [
    {
     "data": {
      "text/plain": [
       "[0, 1, 0, 1, 1, 0, 0, 0]"
      ]
     },
     "execution_count": 26,
     "metadata": {},
     "output_type": "execute_result"
    }
   ],
   "source": [
    "parity_group_1 = [bit for i , bit in enumerate(encoded_message) if (i%2)!=0]\n",
    "parity_group_1"
   ]
  },
  {
   "cell_type": "code",
   "execution_count": 27,
   "metadata": {},
   "outputs": [],
   "source": [
    "if (parity_group_1[1:].count(1)%2==0)== False:\n",
    "    parity_group_1[0] = 1\n",
    "else:\n",
    "    parity_group_1[0] = 0 "
   ]
  },
  {
   "cell_type": "code",
   "execution_count": 28,
   "metadata": {},
   "outputs": [],
   "source": [
    "parity_group_2 = [bit for i, bit in enumerate(encoded_message) if (i%2)==0]"
   ]
  },
  {
   "cell_type": "markdown",
   "metadata": {},
   "source": [
    "While this aproach works, it is not svclable, and we should utilise the fact that parity groups are based on the byte representation of the possition as done here"
   ]
  },
  {
   "cell_type": "code",
   "execution_count": 29,
   "metadata": {},
   "outputs": [
    {
     "data": {
      "text/plain": [
       "['0',\n",
       " '1',\n",
       " '10',\n",
       " '11',\n",
       " '100',\n",
       " '101',\n",
       " '110',\n",
       " '111',\n",
       " '1000',\n",
       " '1001',\n",
       " '1010',\n",
       " '1011',\n",
       " '1100',\n",
       " '1101',\n",
       " '1110',\n",
       " '1111']"
      ]
     },
     "execution_count": 29,
     "metadata": {},
     "output_type": "execute_result"
    }
   ],
   "source": [
    "[bin(i)[2:] for i, bit in enumerate(encoded_message)]"
   ]
  },
  {
   "cell_type": "code",
   "execution_count": 30,
   "metadata": {},
   "outputs": [
    {
     "data": {
      "text/plain": [
       "['0000',\n",
       " '0001',\n",
       " '0010',\n",
       " '0011',\n",
       " '0100',\n",
       " '0101',\n",
       " '0110',\n",
       " '0111',\n",
       " '1000',\n",
       " '1001',\n",
       " '1010',\n",
       " '1011',\n",
       " '1100',\n",
       " '1101',\n",
       " '1110',\n",
       " '1111']"
      ]
     },
     "execution_count": 30,
     "metadata": {},
     "output_type": "execute_result"
    }
   ],
   "source": [
    "[bin(i)[2:].zfill(4) for i, bit in enumerate(encoded_message)]"
   ]
  },
  {
   "cell_type": "code",
   "execution_count": 31,
   "metadata": {},
   "outputs": [
    {
     "data": {
      "text/plain": [
       "['0',\n",
       " '1',\n",
       " '0',\n",
       " '1',\n",
       " '0',\n",
       " '1',\n",
       " '0',\n",
       " '1',\n",
       " '0',\n",
       " '1',\n",
       " '0',\n",
       " '1',\n",
       " '0',\n",
       " '1',\n",
       " '0',\n",
       " '1']"
      ]
     },
     "execution_count": 31,
     "metadata": {},
     "output_type": "execute_result"
    }
   ],
   "source": [
    "[bin(i)[2:].zfill(4)[3] for i, bit in enumerate(encoded_message)]"
   ]
  },
  {
   "cell_type": "code",
   "execution_count": 32,
   "metadata": {},
   "outputs": [
    {
     "data": {
      "text/plain": [
       "[1, 0, 1, 1, 0, 0, 0]"
      ]
     },
     "execution_count": 32,
     "metadata": {},
     "output_type": "execute_result"
    }
   ],
   "source": [
    "[bit for i, bit in enumerate(encoded_message) if bin(i)[2:].zfill(4)[3] == '1'][1:]"
   ]
  },
  {
   "cell_type": "code",
   "execution_count": 33,
   "metadata": {},
   "outputs": [
    {
     "data": {
      "text/plain": [
       "3"
      ]
     },
     "execution_count": 33,
     "metadata": {},
     "output_type": "execute_result"
    }
   ],
   "source": [
    "[bit for i, bit in enumerate(encoded_message) if bin(i)[2:].zfill(4)[3] == '1'][1:].count(1)"
   ]
  },
  {
   "cell_type": "code",
   "execution_count": 34,
   "metadata": {},
   "outputs": [
    {
     "data": {
      "text/plain": [
       "False"
      ]
     },
     "execution_count": 34,
     "metadata": {},
     "output_type": "execute_result"
    }
   ],
   "source": [
    "([bit for i, bit in enumerate(encoded_message) if bin(i)[2:].zfill(4)[3] == '1'][1:].count(1))%2==0"
   ]
  },
  {
   "cell_type": "code",
   "execution_count": 35,
   "metadata": {},
   "outputs": [
    {
     "data": {
      "text/plain": [
       "[0]"
      ]
     },
     "execution_count": 35,
     "metadata": {},
     "output_type": "execute_result"
    }
   ],
   "source": [
    "([bit for i, bit in enumerate(encoded_message) if bin(i)[2:].zfill(4) == '0100'])"
   ]
  },
  {
   "cell_type": "code",
   "execution_count": 36,
   "metadata": {},
   "outputs": [
    {
     "data": {
      "text/plain": [
       "[(0, 0),\n",
       " (1, 0),\n",
       " (2, 0),\n",
       " (3, 1),\n",
       " (4, 0),\n",
       " (5, 0),\n",
       " (6, 1),\n",
       " (7, 1),\n",
       " (8, 0),\n",
       " (9, 1),\n",
       " (10, 0),\n",
       " (11, 0),\n",
       " (12, 1),\n",
       " (13, 0),\n",
       " (14, 1),\n",
       " (15, 0)]"
      ]
     },
     "execution_count": 36,
     "metadata": {},
     "output_type": "execute_result"
    }
   ],
   "source": [
    "list(enumerate(encoded_message))"
   ]
  },
  {
   "cell_type": "code",
   "execution_count": 37,
   "metadata": {},
   "outputs": [],
   "source": [
    "for i, b in enumerate(encoded_message):\n",
    "    if bin(i)[2:].zfill(4) == '0100':\n",
    "        if (([bit for i, bit in enumerate(encoded_message) if bin(i)[2:].zfill(4)[1] == '1'][1:].count(1))%2==0) == True:\n",
    "            encoded_message[i]= 0\n",
    "        else:\n",
    "            encoded_message[i]= 1"
   ]
  },
  {
   "cell_type": "code",
   "execution_count": 38,
   "metadata": {},
   "outputs": [
    {
     "data": {
      "text/plain": [
       "[(0, 0),\n",
       " (1, 0),\n",
       " (2, 0),\n",
       " (3, 1),\n",
       " (4, 0),\n",
       " (5, 0),\n",
       " (6, 1),\n",
       " (7, 1),\n",
       " (8, 0),\n",
       " (9, 1),\n",
       " (10, 0),\n",
       " (11, 0),\n",
       " (12, 1),\n",
       " (13, 0),\n",
       " (14, 1),\n",
       " (15, 0)]"
      ]
     },
     "execution_count": 38,
     "metadata": {},
     "output_type": "execute_result"
    }
   ],
   "source": [
    "list(enumerate(encoded_message))"
   ]
  },
  {
   "cell_type": "code",
   "execution_count": 39,
   "metadata": {},
   "outputs": [],
   "source": [
    "for i, b in enumerate(encoded_message):\n",
    "    if bin(i)[2:].zfill(4) == '1000':\n",
    "        if (([bit for i, bit in enumerate(encoded_message) if bin(i)[2:].zfill(4)[0] == '1'][1:].count(1))%2==0) == True:\n",
    "            encoded_message[i]= 0\n",
    "        else:\n",
    "            encoded_message[i]= 1\n",
    "            \n",
    "    elif bin(i)[2:].zfill(4) == '0100':\n",
    "        if (([bit for i, bit in enumerate(encoded_message) if bin(i)[2:].zfill(4)[1] == '1'][1:].count(1))%2==0) == True:\n",
    "            encoded_message[i]= 0\n",
    "        else:\n",
    "            encoded_message[i]= 1\n",
    "            \n",
    "    elif bin(i)[2:].zfill(4) == '0010':\n",
    "        if (([bit for i, bit in enumerate(encoded_message) if bin(i)[2:].zfill(4)[2] == '1'][1:].count(1))%2==0) == True:\n",
    "            encoded_message[i]= 0\n",
    "        else:\n",
    "            encoded_message[i]= 1\n",
    "            \n",
    "    elif bin(i)[2:].zfill(4) == '0001':\n",
    "        if (([bit for i, bit in enumerate(encoded_message) if bin(i)[2:].zfill(4)[3] == '1'][1:].count(1))%2==0) == True:\n",
    "            encoded_message[i]= 0\n",
    "        else:\n",
    "            encoded_message[i]= 1\n",
    "    elif bin(i)[2:].zfill(4) == '0000':\n",
    "        if (([bit for i, bit in enumerate(encoded_message)][1:].count(1))%2==0) == True:\n",
    "            encoded_message[i]= 0\n",
    "        else:\n",
    "            encoded_message[i]= 1"
   ]
  },
  {
   "cell_type": "code",
   "execution_count": 40,
   "metadata": {},
   "outputs": [
    {
     "data": {
      "text/plain": [
       "[(0, 0),\n",
       " (1, 1),\n",
       " (2, 0),\n",
       " (3, 1),\n",
       " (4, 0),\n",
       " (5, 0),\n",
       " (6, 1),\n",
       " (7, 1),\n",
       " (8, 1),\n",
       " (9, 1),\n",
       " (10, 0),\n",
       " (11, 0),\n",
       " (12, 1),\n",
       " (13, 0),\n",
       " (14, 1),\n",
       " (15, 0)]"
      ]
     },
     "execution_count": 40,
     "metadata": {},
     "output_type": "execute_result"
    }
   ],
   "source": [
    "list(enumerate(encoded_message))"
   ]
  },
  {
   "cell_type": "code",
   "execution_count": 41,
   "metadata": {},
   "outputs": [
    {
     "data": {
      "text/plain": [
       "0"
      ]
     },
     "execution_count": 41,
     "metadata": {},
     "output_type": "execute_result"
    }
   ],
   "source": [
    "# Checking thhat the implementation creates a valid Hamming value\n",
    "Hamming_syndrome(encoded_message)"
   ]
  },
  {
   "cell_type": "code",
   "execution_count": 7,
   "metadata": {},
   "outputs": [],
   "source": [
    "# Create a new message, encode it and test\n",
    "message = np.random.randint(0,2,11)\n",
    "block=16\n",
    "\n",
    "encoded_message = []\n",
    "message_position = 0\n",
    "for position in range(0, block):\n",
    "    if position==0:\n",
    "        encoded_message.append(0)\n",
    "    elif power_of_two(position)==True:\n",
    "        encoded_message.append(0)\n",
    "    else:\n",
    "        encoded_message.append(message[message_position])\n",
    "        message_position =message_position+ 1"
   ]
  },
  {
   "cell_type": "code",
   "execution_count": 8,
   "metadata": {},
   "outputs": [
    {
     "data": {
      "text/plain": [
       "6"
      ]
     },
     "execution_count": 8,
     "metadata": {},
     "output_type": "execute_result"
    }
   ],
   "source": [
    "Hamming_syndrome(encoded_message)"
   ]
  },
  {
   "cell_type": "code",
   "execution_count": 9,
   "metadata": {},
   "outputs": [],
   "source": [
    "for index in list(range(0, len(bin(list(enumerate(encoded_message))[-1][0])[2:]))):\n",
    "    parity_byte = '0'* len(bin(list(enumerate(encoded_message))[-1][0])[2:])\n",
    "    parity_byte = parity_byte[:index]+parity_byte[index].replace('0','1')+parity_byte[index:][:-1]\n",
    "    for i, b in enumerate(encoded_message):\n",
    "        if bin(i)[2:].zfill(4) == parity_byte:\n",
    "            if (([bit for i, bit in enumerate(encoded_message) if bin(i)[2:].zfill(4)[index] == '1'][1:].count(1))%2==0) == True:\n",
    "                encoded_message[i]= 0\n",
    "            else:\n",
    "                encoded_message[i]= 1"
   ]
  },
  {
   "cell_type": "code",
   "execution_count": 10,
   "metadata": {},
   "outputs": [
    {
     "data": {
      "text/plain": [
       "0"
      ]
     },
     "execution_count": 10,
     "metadata": {},
     "output_type": "execute_result"
    }
   ],
   "source": [
    "Hamming_syndrome(encoded_message)"
   ]
  },
  {
   "cell_type": "markdown",
   "metadata": {},
   "source": [
    "### Function for Parity correction\n",
    "\n",
    "Okay, Having worked thrugh how i got here it is time to put it into a function that alows us to take any sizes encoded message and turn it into a Hamming prepared code"
   ]
  },
  {
   "cell_type": "code",
   "execution_count": 9,
   "metadata": {},
   "outputs": [],
   "source": [
    "def Hamming_code (encoded_message):\n",
    "    for index in list(range(0, len(bin(list(enumerate(encoded_message))[-1][0])[2:]))):\n",
    "        parity_byte = '0'* len(bin(list(enumerate(encoded_message))[-1][0])[2:])\n",
    "        parity_byte = parity_byte[:index]+parity_byte[index].replace('0','1')+parity_byte[index:][:-1]\n",
    "        for i, b in enumerate(encoded_message):\n",
    "            if bin(i)[2:].zfill(4) == parity_byte:\n",
    "                if (([bit for i, bit in enumerate(encoded_message) if bin(i)[2:].zfill(4)[index] == '1'][1:].count(1))%2==0) == True:\n",
    "                    encoded_message[i]= 0\n",
    "                else:\n",
    "                    encoded_message[i]= 1\n",
    "            elif bin(i)[2:].zfill(4) == ('0'* len(bin(list(enumerate(encoded_message))[-1][0])[2:])):\n",
    "                if (([bit for i, bit in enumerate(encoded_message)][1:].count(1))%2==0) == True:\n",
    "                    encoded_message[i]= 0\n",
    "                else:\n",
    "                    encoded_message[i]= 1\n",
    "    \n",
    "    \n",
    "    return encoded_message"
   ]
  },
  {
   "cell_type": "code",
   "execution_count": 11,
   "metadata": {},
   "outputs": [],
   "source": [
    "encoded_message = Hamming_code(encoded_message)"
   ]
  },
  {
   "cell_type": "code",
   "execution_count": 12,
   "metadata": {},
   "outputs": [
    {
     "data": {
      "text/plain": [
       "0"
      ]
     },
     "execution_count": 12,
     "metadata": {},
     "output_type": "execute_result"
    }
   ],
   "source": [
    "Hamming_syndrome(encoded_message)"
   ]
  },
  {
   "cell_type": "markdown",
   "metadata": {},
   "source": [
    "### Function for encoding Message\n",
    "\n",
    "This functions is created to take any length function, and encoding it into a hamming space"
   ]
  },
  {
   "cell_type": "code",
   "execution_count": 13,
   "metadata": {},
   "outputs": [],
   "source": [
    "# Create a new message, encode it and test\n",
    "message = np.random.randint(0,2,11)\n",
    "\n",
    "encoded_message = []\n",
    "message_position = 0\n",
    "for position in range(0, block):\n",
    "    if position==0:\n",
    "        encoded_message.append(0)\n",
    "    elif power_of_two(position)==True:\n",
    "        encoded_message.append(0)\n",
    "    else:\n",
    "        encoded_message.append(message[message_position])\n",
    "        message_position =message_position+ 1"
   ]
  },
  {
   "cell_type": "code",
   "execution_count": 5,
   "metadata": {},
   "outputs": [],
   "source": [
    "def closest_power2(x):\n",
    "    return 1<<(x-1).bit_length()"
   ]
  },
  {
   "cell_type": "code",
   "execution_count": 15,
   "metadata": {},
   "outputs": [
    {
     "data": {
      "text/plain": [
       "64"
      ]
     },
     "execution_count": 15,
     "metadata": {},
     "output_type": "execute_result"
    }
   ],
   "source": [
    "message = np.random.randint(0,2,34)\n",
    "block = closest_power2(len(message))\n",
    "block"
   ]
  },
  {
   "cell_type": "code",
   "execution_count": 16,
   "metadata": {},
   "outputs": [
    {
     "data": {
      "text/plain": [
       "30"
      ]
     },
     "execution_count": 16,
     "metadata": {},
     "output_type": "execute_result"
    }
   ],
   "source": [
    "pad = block - len(message)\n",
    "pad"
   ]
  },
  {
   "cell_type": "code",
   "execution_count": 17,
   "metadata": {},
   "outputs": [],
   "source": [
    "padding = [0] * pad\n",
    "padded_message = np.append(message,padding)\n"
   ]
  },
  {
   "cell_type": "code",
   "execution_count": 18,
   "metadata": {},
   "outputs": [
    {
     "data": {
      "text/plain": [
       "64"
      ]
     },
     "execution_count": 18,
     "metadata": {},
     "output_type": "execute_result"
    }
   ],
   "source": [
    "len(padded_message)"
   ]
  },
  {
   "cell_type": "code",
   "execution_count": 19,
   "metadata": {},
   "outputs": [
    {
     "name": "stdout",
     "output_type": "stream",
     "text": [
      "[0 0 0 1 1 1 1 1 1 0 1 0 0 0 0 1 0 1 0 1 0 0 1 0 1 0 0 0 0 0 0 0 0 1 0 0 0\n",
      " 0 0 0 0 0 0 0 0 0 0 0 0 0 0 0 0 0 0 0 0 0 0 0 0 0 0 0]\n"
     ]
    }
   ],
   "source": [
    "print(padded_message)"
   ]
  },
  {
   "cell_type": "code",
   "execution_count": 6,
   "metadata": {},
   "outputs": [],
   "source": [
    "def Hamming_precode(message):\n",
    "    block = closest_power2(len(message))\n",
    "    pad = block - len(message)\n",
    "    padding = [0] * pad\n",
    "    padded_message = np.append(message,padding)\n",
    "    \n",
    "    encoded_message = []\n",
    "    message_position = 0\n",
    "    for position in range(0, block):\n",
    "        if position==0:\n",
    "            encoded_message.append(0)\n",
    "        elif power_of_two(position)==True:\n",
    "            encoded_message.append(0)\n",
    "        else:\n",
    "            encoded_message.append(padded_message[message_position])\n",
    "            message_position += 1\n",
    "    return encoded_message"
   ]
  },
  {
   "cell_type": "code",
   "execution_count": 7,
   "metadata": {},
   "outputs": [
    {
     "data": {
      "text/plain": [
       "14"
      ]
     },
     "execution_count": 7,
     "metadata": {},
     "output_type": "execute_result"
    }
   ],
   "source": [
    "message = np.random.randint(0,2,33)\n",
    "precoded_message = Hamming_precode(message)\n",
    "Hamming_syndrome(precoded_message)"
   ]
  },
  {
   "cell_type": "code",
   "execution_count": 10,
   "metadata": {},
   "outputs": [
    {
     "data": {
      "text/plain": [
       "14"
      ]
     },
     "execution_count": 10,
     "metadata": {},
     "output_type": "execute_result"
    }
   ],
   "source": [
    "encoded_message = Hamming_code(precoded_message)\n",
    "Hamming_syndrome(encoded_message)"
   ]
  },
  {
   "cell_type": "code",
   "execution_count": null,
   "metadata": {},
   "outputs": [],
   "source": []
  }
 ],
 "metadata": {
  "kernelspec": {
   "display_name": "Python 3",
   "language": "python",
   "name": "python3"
  },
  "language_info": {
   "codemirror_mode": {
    "name": "ipython",
    "version": 3
   },
   "file_extension": ".py",
   "mimetype": "text/x-python",
   "name": "python",
   "nbconvert_exporter": "python",
   "pygments_lexer": "ipython3",
   "version": "3.8.3"
  }
 },
 "nbformat": 4,
 "nbformat_minor": 4
}
