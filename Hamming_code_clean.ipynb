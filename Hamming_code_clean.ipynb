{
 "cells": [
  {
   "cell_type": "markdown",
   "metadata": {},
   "source": [
    "# Hamming Code\n",
    "\n",
    "This Notebook is e cleaned up example of creating and manipulating bytestrings using Hamming Code representation. \n",
    "This Notebook is inspired by the 3Blue1Brown wideos. While I started following the videos, I decisded to take the next step and create functions that can take an abritrary lengt byte string, and automatically create the Appropriate representation. "
   ]
  },
  {
   "cell_type": "code",
   "execution_count": 24,
   "metadata": {},
   "outputs": [],
   "source": [
    "import operator as op\n",
    "import numpy as np\n",
    "import random\n",
    "from functools import reduce\n",
    "import math\n",
    "import itertools"
   ]
  },
  {
   "cell_type": "code",
   "execution_count": 150,
   "metadata": {},
   "outputs": [],
   "source": [
    "def Hamming_syndrome(bits):\n",
    "    return reduce(op.xor, [i for i , b in enumerate(bits) if b])\n",
    "\n",
    "#check if value is a power of 2\n",
    "def power_of_two(n): \n",
    "    if (n == 0): \n",
    "        return False\n",
    "    while (n != 1): \n",
    "            if (n % 2 != 0): \n",
    "                return False\n",
    "            n = n // 2\n",
    "              \n",
    "    return True\n",
    "\n",
    "def closest_power2(x):\n",
    "    return 1<<(x-1).bit_length()\n",
    "\n",
    "def Hamming_precode(message):\n",
    "    bit_length = len(bin(list(enumerate(message))[-1][0])[2:])\n",
    "    block = closest_power2(len(message)+bit_length)\n",
    "    pad = block - len(message)\n",
    "    padding = [0] * pad\n",
    "    padded_message = np.append(message,padding)\n",
    "    \n",
    "    encoded_message = []\n",
    "    for position in range(0, block):\n",
    "        if position==0:\n",
    "            encoded_message.append('p')\n",
    "        elif power_of_two(position)==True:\n",
    "            encoded_message.append('p')\n",
    "        else:\n",
    "            encoded_message.append(padded_message[position])\n",
    "            \n",
    "    return encoded_message\n",
    "\n",
    "def Hamming_encode (encoded_message):\n",
    "    for index in list(range(0, len(bin(list(enumerate(encoded_message))[-1][0])[2:]))):\n",
    "        bit_length = len(bin(list(enumerate(encoded_message))[-1][0])[2:])\n",
    "        parity_byte = '0'* bit_length\n",
    "        parity_byte = parity_byte[:index]+parity_byte[index].replace('0','1')+parity_byte[index:][:-1]\n",
    "        for i, b in enumerate(encoded_message):\n",
    "            if bin(i)[2:].zfill(bit_length) == str(parity_byte):\n",
    "                \n",
    "                if (([bit for i, bit in enumerate(encoded_message) if bin(i)[2:].zfill(bit_length)[index] == '1'][1:].count(1))%2==0) == True:\n",
    "                    encoded_message[i]= 0\n",
    "                else:\n",
    "                    encoded_message[i]= 1\n",
    "            elif bin(i)[2:].zfill(bit_length) == ('0'* bit_length):\n",
    "                if (([bit for i, bit in enumerate(encoded_message)][1:].count(1))%2==0) == True:\n",
    "                    encoded_message[i]= 0\n",
    "                else:\n",
    "                    encoded_message[i]= 1\n",
    "    \n",
    "    \n",
    "    return encoded_message\n",
    "\n",
    "def text_byte (text_message):\n",
    "    message = bytearray(text_message, \"utf8\")\n",
    "    byte_list=[]\n",
    "    for byte in message:\n",
    "        binary_representation = bin(byte)\n",
    "        byte_list.append(binary_representation)\n",
    "    return byte_list\n",
    "\n"
   ]
  },
  {
   "cell_type": "markdown",
   "metadata": {},
   "source": [
    "## Byte String Hamming Code\n",
    "\n",
    "Bellow is a clean examplen of how a binary message is encoded into a Hamming Code representation with Pariety checks.\n",
    "It can take any lengt of bytes and wil encode it into a representative Hamming Code unit.\n",
    "\n",
    "Next on development is the creation of a error correction step."
   ]
  },
  {
   "cell_type": "code",
   "execution_count": 131,
   "metadata": {},
   "outputs": [
    {
     "data": {
      "text/plain": [
       "133"
      ]
     },
     "execution_count": 131,
     "metadata": {},
     "output_type": "execute_result"
    }
   ],
   "source": [
    "#create a message to encode\n",
    "message = np.random.randint(0,2,288)\n",
    "precoded_message = Hamming_precode(message)\n",
    "Hamming_syndrome(precoded_message)"
   ]
  },
  {
   "cell_type": "code",
   "execution_count": 132,
   "metadata": {},
   "outputs": [
    {
     "data": {
      "text/plain": [
       "0"
      ]
     },
     "execution_count": 132,
     "metadata": {},
     "output_type": "execute_result"
    }
   ],
   "source": [
    "encoded_message = Hamming_encode(precoded_message)\n",
    "Hamming_syndrome(encoded_message)"
   ]
  },
  {
   "cell_type": "markdown",
   "metadata": {},
   "source": [
    "## Text based Hamming code\n",
    "Bellow is an example of the functions for running text based messaces using Hamming code error correction.\n",
    "Currently still under development"
   ]
  },
  {
   "cell_type": "code",
   "execution_count": 145,
   "metadata": {},
   "outputs": [],
   "source": [
    "text_message = 'This is a test for checking the results of a text based byte string'"
   ]
  },
  {
   "cell_type": "code",
   "execution_count": 151,
   "metadata": {},
   "outputs": [],
   "source": [
    "message = text_byte(text_message)"
   ]
  },
  {
   "cell_type": "code",
   "execution_count": 152,
   "metadata": {},
   "outputs": [
    {
     "data": {
      "text/plain": [
       "0"
      ]
     },
     "execution_count": 152,
     "metadata": {},
     "output_type": "execute_result"
    }
   ],
   "source": [
    "precoded_message = Hamming_precode(message)\n",
    "Hamming_syndrome(precoded_message)"
   ]
  },
  {
   "cell_type": "code",
   "execution_count": 154,
   "metadata": {},
   "outputs": [
    {
     "data": {
      "text/plain": [
       "127"
      ]
     },
     "execution_count": 154,
     "metadata": {},
     "output_type": "execute_result"
    }
   ],
   "source": [
    "encoded_message = Hamming_encode(precoded_message)\n",
    "Hamming_syndrome(encoded_message)"
   ]
  },
  {
   "cell_type": "code",
   "execution_count": null,
   "metadata": {},
   "outputs": [],
   "source": []
  }
 ],
 "metadata": {
  "kernelspec": {
   "display_name": "Python 3",
   "language": "python",
   "name": "python3"
  },
  "language_info": {
   "codemirror_mode": {
    "name": "ipython",
    "version": 3
   },
   "file_extension": ".py",
   "mimetype": "text/x-python",
   "name": "python",
   "nbconvert_exporter": "python",
   "pygments_lexer": "ipython3",
   "version": "3.8.3"
  }
 },
 "nbformat": 4,
 "nbformat_minor": 4
}
